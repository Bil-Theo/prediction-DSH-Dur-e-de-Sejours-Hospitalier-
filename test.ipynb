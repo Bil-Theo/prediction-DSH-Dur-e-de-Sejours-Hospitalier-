{
 "cells": [
  {
   "cell_type": "code",
   "execution_count": 17,
   "metadata": {},
   "outputs": [],
   "source": [
    "import numpy as np\n",
    "import matplotlib.pyplot as plt\n",
    "from sklearn.datasets import make_regression\n",
    "import pickle\n",
    "import graph\n",
    "import csv"
   ]
  },
  {
   "cell_type": "code",
   "execution_count": 18,
   "metadata": {},
   "outputs": [],
   "source": [
    "def initiation(x):\n",
    "    return np.random.randn(x.shape[1],1)"
   ]
  },
  {
   "cell_type": "code",
   "execution_count": 19,
   "metadata": {},
   "outputs": [],
   "source": [
    "def modele(x, theta):\n",
    "    return x.dot(theta)\n"
   ]
  },
  {
   "cell_type": "code",
   "execution_count": 20,
   "metadata": {},
   "outputs": [],
   "source": [
    "def function_cost(x, y, theta):\n",
    "    m = len(y)\n",
    "    return 1/(2*m)*(np.sum(modele(x, theta) -  y)**2)\n"
   ]
  },
  {
   "cell_type": "code",
   "execution_count": 21,
   "metadata": {},
   "outputs": [],
   "source": [
    "def gradient(x, y, theta):\n",
    "    m = len(y)\n",
    "    return (1/m) *  x.T.dot(modele(x, theta) - y)"
   ]
  },
  {
   "cell_type": "code",
   "execution_count": 22,
   "metadata": {},
   "outputs": [],
   "source": [
    "def gradient_Desc(x, y, nbr_iterations, learning_rate, goal):\n",
    "    cost_History = np.zeros(nbr_iterations)\n",
    "    rmse = np.zeros(nbr_iterations)\n",
    "    theta =  initiation(x)\n",
    "    for i in range(0, nbr_iterations):\n",
    "        theta = theta - learning_rate * gradient(x, y, theta)\n",
    "        cost_History[i] = function_cost(x, y, theta)\n",
    "        y_pred = prediction(x, theta)\n",
    "        rmse[i] = RMSE(y, y_pred)\n",
    "\n",
    "        if((1 - rmse[i]) >= goal):\n",
    "            break\n",
    "    \n",
    "    return theta, cost_History, rmse"
   ]
  },
  {
   "cell_type": "code",
   "execution_count": 23,
   "metadata": {},
   "outputs": [],
   "source": [
    "def prediction(x, theta):\n",
    "    return modele(x, theta)"
   ]
  },
  {
   "cell_type": "code",
   "execution_count": 24,
   "metadata": {},
   "outputs": [],
   "source": [
    "def RMSE(y_rel, y_pred):\n",
    "    u = ((y_rel - y_pred)**2).sum()\n",
    "    v = ((y_rel - y_rel.mean())**2).sum()\n",
    "\n",
    "    return u/v\n"
   ]
  },
  {
   "cell_type": "code",
   "execution_count": 25,
   "metadata": {},
   "outputs": [],
   "source": [
    "def save_model(theta):\n",
    "    with open('./datasets/modele.data', 'wb') as file:\n",
    "        myPickel = pickle.Pickler(file)\n",
    "        myPickel.dump(theta)\n",
    "    \n",
    "    file.close()"
   ]
  },
  {
   "cell_type": "code",
   "execution_count": 26,
   "metadata": {},
   "outputs": [],
   "source": [
    "def load_modele():\n",
    "    with open('./datasets/modele.data', 'rb') as file:\n",
    "        myPickel = pickle.Unpickler(file)\n",
    "        theta = myPickel.load()\n",
    "    file.close()\n",
    "    \n",
    "    return theta"
   ]
  },
  {
   "cell_type": "code",
   "execution_count": null,
   "metadata": {},
   "outputs": [],
   "source": [
    "def train(x, y, nbr_iterations = 1000, learning_rate = 0.01, goal = 0.98, save_modele = False, visual_result =  False):\n",
    "\n",
    "    #while(True):\n",
    "    theta, cost_History, rmse = gradient_Desc(x, y, nbr_iterations, learning_rate, goal)\n",
    "    y_predite = prediction(x, theta)\n",
    "    a = 1 - RMSE( y, y_predite)\n",
    "    print('Cost: ',cost_History.shape)\n",
    "    print('RMSE: ',rmse.shape)\n",
    "    print(\"Performance: \",a)\n",
    "    \"\"\"if( a>= goal):\n",
    "        print(\"Meilleur Performance: \",a)\n",
    "        #break\"\"\"\n",
    "    \n",
    "    if(save_modele):\n",
    "        save_model(theta)\n",
    "    \n",
    "    if(visual_result):\n",
    "        myGraph = graph.graphic((7,7))\n",
    "        print(\"length v1: \", x[:, 0].shape)\n",
    "        print(\"Tetha: \", tetha)\n",
    "        print(\"length pred: \", y_predite.shape)\n",
    "        myGraph.graph2D(x, y, y_predite)\n",
    "        plt.figure(figsize=(12,5))\n",
    "        plt.subplot(1,2,1)\n",
    "        plt.plot(cost_History, label = 'Cost function')\n",
    "        plt.legend()\n",
    "        plt.subplot(1,2,2)\n",
    "        plt.plot(rmse, label = 'Error RMSE', color ='red')\n",
    "        plt.legend()\n",
    "        plt.show()\n",
    "        #myGraph.graphRMSE(rmse)\n",
    "    #return cost_History"
   ]
  },
  {
   "cell_type": "code",
   "execution_count": 27,
   "metadata": {},
   "outputs": [],
   "source": [
    "def extraire():\n",
    "    file =  open(\"./datasets/LengthOfStay.csv\", \"r\")\n",
    "\n",
    "    resultcsv = csv.reader(file, delimiter = \",\")\n",
    "    i = 0\n",
    "    data = dict()\n",
    "\n",
    "    for row in resultcsv:\n",
    "        data[i] = row\n",
    "        i = i + 1\n",
    "    \n",
    "    file.close()\n",
    "    return data"
   ]
  },
  {
   "cell_type": "code",
   "execution_count": 28,
   "metadata": {},
   "outputs": [],
   "source": [
    "def numpyOfdict(input, length):\n",
    "\n",
    "    input = dict(list(input.items())[:length])\n",
    "    rec = list(input.items())\n",
    "    data = np.array(rec)\n",
    "    X = np.array(data[0][1])\n",
    "    for i in range(data.shape[0]):\n",
    "        if( i >0): \n",
    "            X = np.vstack((X, data[i][1]))\n",
    "\n",
    "    return X"
   ]
  },
  {
   "cell_type": "code",
   "execution_count": 29,
   "metadata": {},
   "outputs": [],
   "source": [
    "#[0,1,2,3,26,27]\n",
    "def purge(data, indesirable):\n",
    "    data = data[1:, :]\n",
    "    y = data[:, 27]\n",
    "    x = np.delete(data, indesirable, axis=1)\n",
    "    return (x, y)"
   ]
  },
  {
   "cell_type": "code",
   "execution_count": 30,
   "metadata": {},
   "outputs": [
    {
     "name": "stdout",
     "output_type": "stream",
     "text": [
      "X:  (49, 22)\n",
      "Y:  (49,)\n"
     ]
    },
    {
     "name": "stderr",
     "output_type": "stream",
     "text": [
      "C:\\Users\\TRETEC\\AppData\\Local\\Temp\\ipykernel_5744\\3717415635.py:5: VisibleDeprecationWarning: Creating an ndarray from ragged nested sequences (which is a list-or-tuple of lists-or-tuples-or ndarrays with different lengths or shapes) is deprecated. If you meant to do this, you must specify 'dtype=object' when creating the ndarray.\n",
      "  data = np.array(rec)\n"
     ]
    },
    {
     "data": {
      "text/plain": [
       "array(['3', '7', '3', '1', '4', '6', '6', '3', '3', '2', '1', '7', '3',\n",
       "       '5', '2', '4', '6', '1', '5', '2', '3', '1', '6', '4', '6', '4',\n",
       "       '7', '5', '6', '2', '4', '3', '1', '5', '4', '3', '2', '10', '8',\n",
       "       '4', '7', '1', '5', '2', '4', '9', '5', '1', '3'], dtype='<U26')"
      ]
     },
     "execution_count": 30,
     "metadata": {},
     "output_type": "execute_result"
    }
   ],
   "source": [
    "data = extraire()\n",
    "\n",
    "data = numpyOfdict(data, 50)\n",
    "x, y = purge(data,[0,1,2,3,26,27]) \n",
    "print(\"X: \",x.shape)\n",
    "print(\"Y: \", y.shape)\n",
    "y"
   ]
  },
  {
   "cell_type": "code",
   "execution_count": 31,
   "metadata": {},
   "outputs": [
    {
     "name": "stdout",
     "output_type": "stream",
     "text": [
      "Dimension de X et Y\n",
      "X:  (200, 3)\n",
      "Y:  (200, 1)\n",
      "Cost:  (1000,)\n",
      "RMSE:  (1000,)\n",
      "Performance:  0.007635877405322233\n",
      "length v1:  (200,)\n"
     ]
    },
    {
     "ename": "NameError",
     "evalue": "name 'tetha' is not defined",
     "output_type": "error",
     "traceback": [
      "\u001b[1;31m---------------------------------------------------------------------------\u001b[0m",
      "\u001b[1;31mNameError\u001b[0m                                 Traceback (most recent call last)",
      "\u001b[1;32md:\\IA\\PFE_Medical\\test.ipynb Cell 16\u001b[0m in \u001b[0;36m1\n\u001b[0;32m     <a href='vscode-notebook-cell:/d%3A/IA/PFE_Medical/test.ipynb#X21sZmlsZQ%3D%3D?line=10'>11</a>\u001b[0m \u001b[39mprint\u001b[39m(\u001b[39m\"\u001b[39m\u001b[39mX: \u001b[39m\u001b[39m\"\u001b[39m,x\u001b[39m.\u001b[39mshape)\n\u001b[0;32m     <a href='vscode-notebook-cell:/d%3A/IA/PFE_Medical/test.ipynb#X21sZmlsZQ%3D%3D?line=11'>12</a>\u001b[0m \u001b[39mprint\u001b[39m(\u001b[39m\"\u001b[39m\u001b[39mY: \u001b[39m\u001b[39m\"\u001b[39m,y\u001b[39m.\u001b[39mshape)\n\u001b[1;32m---> <a href='vscode-notebook-cell:/d%3A/IA/PFE_Medical/test.ipynb#X21sZmlsZQ%3D%3D?line=13'>14</a>\u001b[0m train(x, y, save_modele\u001b[39m=\u001b[39;49m\u001b[39mTrue\u001b[39;49;00m, visual_result\u001b[39m=\u001b[39;49m\u001b[39mTrue\u001b[39;49;00m)\n",
      "\u001b[1;32md:\\IA\\PFE_Medical\\test.ipynb Cell 16\u001b[0m in \u001b[0;36m2\n\u001b[0;32m     <a href='vscode-notebook-cell:/d%3A/IA/PFE_Medical/test.ipynb#X21sZmlsZQ%3D%3D?line=17'>18</a>\u001b[0m myGraph \u001b[39m=\u001b[39m graph\u001b[39m.\u001b[39mgraphic((\u001b[39m7\u001b[39m,\u001b[39m7\u001b[39m))\n\u001b[0;32m     <a href='vscode-notebook-cell:/d%3A/IA/PFE_Medical/test.ipynb#X21sZmlsZQ%3D%3D?line=18'>19</a>\u001b[0m \u001b[39mprint\u001b[39m(\u001b[39m\"\u001b[39m\u001b[39mlength v1: \u001b[39m\u001b[39m\"\u001b[39m, x[:, \u001b[39m0\u001b[39m]\u001b[39m.\u001b[39mshape)\n\u001b[1;32m---> <a href='vscode-notebook-cell:/d%3A/IA/PFE_Medical/test.ipynb#X21sZmlsZQ%3D%3D?line=19'>20</a>\u001b[0m \u001b[39mprint\u001b[39m(\u001b[39m\"\u001b[39m\u001b[39mTetha: \u001b[39m\u001b[39m\"\u001b[39m, tetha)\n\u001b[0;32m     <a href='vscode-notebook-cell:/d%3A/IA/PFE_Medical/test.ipynb#X21sZmlsZQ%3D%3D?line=20'>21</a>\u001b[0m \u001b[39mprint\u001b[39m(\u001b[39m\"\u001b[39m\u001b[39mlength pred: \u001b[39m\u001b[39m\"\u001b[39m, y_predite\u001b[39m.\u001b[39mshape)\n\u001b[0;32m     <a href='vscode-notebook-cell:/d%3A/IA/PFE_Medical/test.ipynb#X21sZmlsZQ%3D%3D?line=21'>22</a>\u001b[0m myGraph\u001b[39m.\u001b[39mgraph2D(x, y, y_predite)\n",
      "\u001b[1;31mNameError\u001b[0m: name 'tetha' is not defined"
     ]
    },
    {
     "data": {
      "image/png": "[encoded data removed]",
      "text/plain": [
       "<Figure size 700x700 with 1 Axes>"
      ]
     },
     "metadata": {},
     "output_type": "display_data"
    }
   ],
   "source": [
    "\n",
    "x, y = make_regression(n_samples=200, n_features=1, noise=10)\n",
    "\n",
    "x, y = make_regression(n_samples=200, n_features=1, noise=10)\n",
    "\n",
    "x = np.hstack((x**2, x))\n",
    "x = np.hstack((x, np.ones((x.shape[0], 1))))\n",
    "y = y.reshape(y.shape[0], 1)\n",
    "y = y - abs(y/2)\n",
    "\n",
    "print(\"Dimension de X et Y\")\n",
    "print(\"X: \",x.shape)\n",
    "print(\"Y: \",y.shape)\n",
    "\n",
    "train(x, y, save_modele=True, visual_result=True)\n",
    "\n"
   ]
  }
 ],
 "metadata": {
  "kernelspec": {
   "display_name": "Python 3",
   "language": "python",
   "name": "python3"
  },
  "language_info": {
   "codemirror_mode": {
    "name": "ipython",
    "version": 3
   },
   "file_extension": ".py",
   "mimetype": "text/x-python",
   "name": "python",
   "nbconvert_exporter": "python",
   "pygments_lexer": "ipython3",
   "version": "3.10.1"
  },
  "orig_nbformat": 4
 },
 "nbformat": 4,
 "nbformat_minor": 2
}
