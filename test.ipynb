{
 "cells": [
  {
   "cell_type": "code",
   "execution_count": 10,
   "metadata": {},
   "outputs": [
    {
     "name": "stdout",
     "output_type": "stream",
     "text": [
      "X:  (200, 2)\n",
      "Y:  (200, 1)\n"
     ]
    }
   ],
   "source": [
    "import numpy as np\n",
    "import matplotlib.pyplot as plt\n",
    "from sklearn.datasets import make_regression\n",
    "import pickle\n",
    "import graph\n",
    "\n",
    "\n",
    "x, y = make_regression(n_samples=200, n_features=1, noise=10)\n",
    "\n",
    "x = np.hstack((x, np.ones((x.shape[0],1))))\n",
    "y = y.reshape(y.shape[0], 1)\n",
    "\n",
    "print(\"X: \",x.shape)\n",
    "print(\"Y: \",y.shape)"
   ]
  },
  {
   "cell_type": "code",
   "execution_count": 18,
   "metadata": {},
   "outputs": [],
   "source": [
    "def initiation(x):\n",
    "    return np.random.randn(x.shape[1],1)"
   ]
  },
  {
   "cell_type": "code",
   "execution_count": 12,
   "metadata": {},
   "outputs": [
    {
     "data": {
      "text/plain": [
       "array([[-1.13743127],\n",
       "       [ 0.82259804]])"
      ]
     },
     "execution_count": 12,
     "metadata": {},
     "output_type": "execute_result"
    }
   ],
   "source": [
    "theta = initiation()\n",
    "theta"
   ]
  },
  {
   "cell_type": "code",
   "execution_count": 13,
   "metadata": {},
   "outputs": [],
   "source": [
    "def modele(x, tetha):\n",
    "    return x.dot(theta)"
   ]
  },
  {
   "cell_type": "code",
   "execution_count": 14,
   "metadata": {},
   "outputs": [],
   "source": [
    "def function_cost(x, y, theta):\n",
    "    m = len(y)\n",
    "    return 1/(2*m)*(np.sum(modele(x, theta) -  y)**2)"
   ]
  },
  {
   "cell_type": "code",
   "execution_count": 15,
   "metadata": {},
   "outputs": [],
   "source": [
    "def gradient(x, y, theta):\n",
    "    m = len(y)\n",
    "    return (1/m) *  x.T.dot(modele(x, theta) - y)"
   ]
  },
  {
   "cell_type": "code",
   "execution_count": 16,
   "metadata": {},
   "outputs": [],
   "source": [
    "def gradient_Desc(x, y, nbr_iterations, learning_rate, goal):\n",
    "    cost_History = np.zeros(nbr_iterations)\n",
    "    rmse = np.zeros(nbr_iterations)\n",
    "    theta =  initiation(x)\n",
    "    for i in range(0, nbr_iterations):\n",
    "        theta = theta - learning_rate * gradient(x, y, theta)\n",
    "        cost_History[i] = function_cost(x, y, theta)\n",
    "        y_pred = prediction(x, theta)\n",
    "        rmse[i] = 1 - RMSE(y, y_pred)\n",
    "\n",
    "        if((1 - rmse[i]) >= goal):\n",
    "            break\n",
    "    \n",
    "    return theta, cost_History, rmse"
   ]
  },
  {
   "cell_type": "code",
   "execution_count": 20,
   "metadata": {},
   "outputs": [],
   "source": [
    "def prediction(x, theta):\n",
    "    return modele(x, theta)"
   ]
  },
  {
   "cell_type": "code",
   "execution_count": 21,
   "metadata": {},
   "outputs": [],
   "source": [
    "def RMSE(y_rel, y_pred):\n",
    "    u = ((y_rel - y_pred)**2).sum()\n",
    "    v = ((y_rel - y_rel.mean())).sum()\n",
    "\n",
    "    return u/v\n"
   ]
  },
  {
   "cell_type": "code",
   "execution_count": null,
   "metadata": {},
   "outputs": [],
   "source": [
    "def save_modele(theta):\n",
    "    with open('./datasets/modele.data', 'wb') as file:\n",
    "        myPickel = pickle.Pickler(file)\n",
    "        myPickel.dump(theta)\n",
    "    \n",
    "    file.close()"
   ]
  },
  {
   "cell_type": "code",
   "execution_count": null,
   "metadata": {},
   "outputs": [],
   "source": [
    "def load_modele():\n",
    "    with open('./datasets/modele.data', 'rb') as file:\n",
    "        myPickel = pickle.Unpickler(file)\n",
    "        theta = myPickel.load()\n",
    "    file.close()\n",
    "    \n",
    "    return theta"
   ]
  },
  {
   "cell_type": "code",
   "execution_count": null,
   "metadata": {},
   "outputs": [],
   "source": [
    "def train(x, y, nbr_iterations = 1000, learning_rate = 0.1, goal = 0.98, save_model = False, visual_result =  False):\n",
    "    while(True):\n",
    "        theta, cost_History, rmse = gradient_Desc(x, y, theta, nbr_iterations, learning_rate, goal)\n",
    "        y_predite = prediction(x, theta)\n",
    "        print(\"Performance: \",rmse[ len(rmse) - 1])\n",
    "        if(rmse[ len(rmse) - 1] >= goal):\n",
    "            print(\"Meilleur Performance: \", rmse[ len(rmse) - 1])\n",
    "            break\n",
    "    \n",
    "    if(save_model):\n",
    "        save_model(theta)\n",
    "    \n",
    "    if(visual_result):\n",
    "        myGraph = graph.graphic((10,8))\n",
    "        myGraph.graph2D(x, y, label = 'datasets', color = 'blue')\n",
    "        myGraph.graphCost(cost_History)\n",
    "        myGraph.graphRMSE(rmse)"
   ]
  }
 ],
 "metadata": {
  "kernelspec": {
   "display_name": "Python 3",
   "language": "python",
   "name": "python3"
  },
  "language_info": {
   "codemirror_mode": {
    "name": "ipython",
    "version": 3
   },
   "file_extension": ".py",
   "mimetype": "text/x-python",
   "name": "python",
   "nbconvert_exporter": "python",
   "pygments_lexer": "ipython3",
   "version": "3.10.1"
  },
  "orig_nbformat": 4
 },
 "nbformat": 4,
 "nbformat_minor": 2
}
