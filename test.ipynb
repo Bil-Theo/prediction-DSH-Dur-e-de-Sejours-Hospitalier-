{
 "cells": [
  {
   "cell_type": "code",
   "execution_count": 35,
   "metadata": {},
   "outputs": [
    {
     "name": "stdout",
     "output_type": "stream",
     "text": [
      "X:  (200, 2)\n",
      "Y:  (200, 1)\n"
     ]
    }
   ],
   "source": [
    "import numpy as np\n",
    "import matplotlib.pyplot as plt\n",
    "from sklearn.datasets import make_regression\n",
    "\n",
    "x, y = make_regression(n_samples=200, n_features=1, noise=10)\n",
    "\n",
    "x = np.hstack((x, np.ones((x.shape[0],1))))\n",
    "y = y.reshape(y.shape[0], 1)\n",
    "\n",
    "print(\"X: \",x.shape)\n",
    "print(\"Y: \",y.shape)"
   ]
  },
  {
   "cell_type": "code",
   "execution_count": 36,
   "metadata": {},
   "outputs": [],
   "source": [
    "def initiation():\n",
    "    return np.random.randn(2,1)"
   ]
  },
  {
   "cell_type": "code",
   "execution_count": 37,
   "metadata": {},
   "outputs": [
    {
     "data": {
      "text/plain": [
       "array([[-0.60291129],\n",
       "       [-0.7664303 ]])"
      ]
     },
     "execution_count": 37,
     "metadata": {},
     "output_type": "execute_result"
    }
   ],
   "source": [
    "theta = initiation()\n",
    "theta"
   ]
  },
  {
   "cell_type": "code",
   "execution_count": 38,
   "metadata": {},
   "outputs": [],
   "source": [
    "def modele(x, tetha):\n",
    "    return x.dot(theta)"
   ]
  },
  {
   "cell_type": "code",
   "execution_count": 39,
   "metadata": {},
   "outputs": [],
   "source": [
    "def function_cost(x, y, theta):\n",
    "    m = len(y)\n",
    "    return 1/(2*m)*(np.sum(modele(x, theta) -  y)**2)"
   ]
  },
  {
   "cell_type": "code",
   "execution_count": 40,
   "metadata": {},
   "outputs": [],
   "source": [
    "def gradient(x, y, theta):\n",
    "    m = len(y)\n",
    "    return (1/m) * np.sum( x.T.dot(modele(x, theta) - y))"
   ]
  },
  {
   "cell_type": "code",
   "execution_count": 41,
   "metadata": {},
   "outputs": [],
   "source": [
    "def gradient_Desc(x, y, theta, nbr_iterations, learning_rate):\n",
    "    cost_History = np.zeros(nbr_iterations)\n",
    "\n",
    "    for i in range(1, nbr_iterations):\n",
    "        theta = theta - (learning_rate * gradient(x, y, theta))\n",
    "        cost_History[i] = function_cost(x, y, theta)"
   ]
  },
  {
   "cell_type": "code",
   "execution_count": 42,
   "metadata": {},
   "outputs": [],
   "source": [
    "def prediction(x, theta):\n",
    "    return modele(x, theta)"
   ]
  },
  {
   "cell_type": "code",
   "execution_count": 43,
   "metadata": {},
   "outputs": [],
   "source": [
    "def RMSE(y_rel, y_pred):\n",
    "    u = ((y_rel - y_pred)**2).sum()\n",
    "    v = ((y_rel - y_rel.mean())).sum()\n",
    "\n",
    "    return u/v\n"
   ]
  }
 ],
 "metadata": {
  "kernelspec": {
   "display_name": "Python 3",
   "language": "python",
   "name": "python3"
  },
  "language_info": {
   "codemirror_mode": {
    "name": "ipython",
    "version": 3
   },
   "file_extension": ".py",
   "mimetype": "text/x-python",
   "name": "python",
   "nbconvert_exporter": "python",
   "pygments_lexer": "ipython3",
   "version": "3.10.1"
  },
  "orig_nbformat": 4
 },
 "nbformat": 4,
 "nbformat_minor": 2
}
